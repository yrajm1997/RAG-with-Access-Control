{
  "cells": [
    {
      "cell_type": "markdown",
      "metadata": {
        "id": "IhhZXv1gLQcg"
      },
      "source": [
        "# RAG with Access Control\n",
        "\n",
        "**(with OpenAI LLMs)**"
      ]
    },
    {
      "cell_type": "markdown",
      "metadata": {
        "id": "qWr7GKpxpEwc"
      },
      "source": [
        "## Objectives\n",
        "\n",
        "At the end of the experiment, you will be able to:\n",
        "\n",
        "1. Load the Documents\n",
        "2. Splitting the documents into chunks\n",
        "3. Embedding the chunks and storing them in vector db\n",
        "4. Retrieving the relevant chunks to the query\n",
        " * Addressing Diversity\n",
        " * Addressing Specificity\n",
        "5. Connecting with LLM to get a final grounded answer"
      ]
    },
    {
      "cell_type": "markdown",
      "metadata": {
        "id": "pc9b_a76b0RW"
      },
      "source": [
        "## Introduction"
      ]
    },
    {
      "cell_type": "markdown",
      "metadata": {
        "id": "LWnst4BvQZ_r"
      },
      "source": [
        "> **RAG diagram:**\n",
        ">\n",
        "> <img src='https://drive.google.com/uc?id=1sCVvpsmtZEU1WSK1FFGMGHbEjrgtCNLi'>"
      ]
    },
    {
      "cell_type": "markdown",
      "metadata": {
        "id": "krKO3QbcQZ_z"
      },
      "source": [
        "> **Vector Store and Retrieval:**\n",
        ">\n",
        "> <img src='https://drive.google.com/uc?id=1_zX5gtSNrV8Qdx7Nz4_gMR8dCwvxCDS7' width=750px>"
      ]
    },
    {
      "cell_type": "markdown",
      "metadata": {
        "id": "5AYo-OK9QZ_z"
      },
      "source": [
        "> **Embedding Model:**\n",
        ">\n",
        "> <img src='https://drive.google.com/uc?id=1HnvjGJ4HmpS-0wndpH-Q8cKMwIwWkTUe'>"
      ]
    },
    {
      "cell_type": "markdown",
      "metadata": {
        "id": "EI62t_drQZ_0"
      },
      "source": [
        "> **Retrieval in Action:**\n",
        ">\n",
        "> <img src='https://drive.google.com/uc?id=1ry2TWFsewwqYP3Lw9muuPmbyuQqXwnYV' width=800px>"
      ]
    },
    {
      "cell_type": "markdown",
      "metadata": {
        "id": "GfgDb8sWQZ_0"
      },
      "source": [
        "> **Example workflow with embedding model:**\n",
        ">\n",
        "><br>\n",
        ">\n",
        "> <img src='https://drive.google.com/uc?id=1zTuMMX54L2HrnmCYktTxVfMVrkIz8w15' width=600px>"
      ]
    },
    {
      "cell_type": "markdown",
      "metadata": {
        "id": "5KsPoPtTZ8K5"
      },
      "source": [
        "### Install Dependencies"
      ]
    },
    {
      "cell_type": "code",
      "execution_count": 1,
      "metadata": {
        "collapsed": true,
        "id": "v5_-MW5g3xVj"
      },
      "outputs": [],
      "source": [
        "%%capture\n",
        "!pip -q install openai\n",
        "!pip -q install langchain-openai\n",
        "!pip -q install langchain-core\n",
        "!pip -q install langchain-community\n",
        "!pip -q install sentence-transformers\n",
        "!pip -q install langchain-huggingface\n",
        "!pip -q install langchain-chroma\n",
        "!pip -q install chromadb\n",
        "!pip -q install pypdf"
      ]
    },
    {
      "cell_type": "markdown",
      "metadata": {
        "id": "ayJlGGiXaBLN"
      },
      "source": [
        "### Import Required Packages"
      ]
    },
    {
      "cell_type": "code",
      "execution_count": 2,
      "metadata": {
        "id": "GU2BjXKhaD5W"
      },
      "outputs": [],
      "source": [
        "import os\n",
        "import openai\n",
        "import numpy as np\n",
        "from langchain_community.document_loaders import PyPDFLoader\n",
        "from langchain_openai import ChatOpenAI\n",
        "from langchain_chroma import Chroma\n",
        "from langchain_core.prompts import PromptTemplate\n",
        "from langchain_core.output_parsers import StrOutputParser\n",
        "from langchain.schema.runnable import RunnablePassthrough"
      ]
    },
    {
      "cell_type": "markdown",
      "metadata": {
        "id": "5XF7eEn4oaUJ"
      },
      "source": [
        "#### **Provide your OpenAI API key**"
      ]
    },
    {
      "cell_type": "code",
      "execution_count": 3,
      "metadata": {
        "id": "cgfRX83Jb5jQ"
      },
      "outputs": [],
      "source": [
        "# Read OpenAI key from Colab Secrets\n",
        "\n",
        "from google.colab import userdata\n",
        "\n",
        "api_key = userdata.get('OPENAI_KEY')           # <-- change this as per your secret's name\n",
        "os.environ['OPENAI_API_KEY'] = api_key\n",
        "openai.api_key = os.getenv('OPENAI_API_KEY')"
      ]
    },
    {
      "cell_type": "markdown",
      "metadata": {
        "id": "EaLaiX0x-AKC"
      },
      "source": [
        "### Load LLM"
      ]
    },
    {
      "cell_type": "code",
      "execution_count": 4,
      "metadata": {
        "id": "smjp5Nk--I5i"
      },
      "outputs": [],
      "source": [
        "# Load Model\n",
        "\n",
        "from langchain_openai import ChatOpenAI\n",
        "\n",
        "llm = ChatOpenAI(model_name=\"gpt-4o-mini\", temperature=0)"
      ]
    },
    {
      "cell_type": "code",
      "execution_count": null,
      "metadata": {
        "colab": {
          "base_uri": "https://localhost:8080/"
        },
        "id": "46xBxPUM-I_S",
        "outputId": "2b1d9541-e15b-4507-84c3-3f0b9c9092f3"
      },
      "outputs": [
        {
          "output_type": "stream",
          "name": "stdout",
          "text": [
            "Learning programming can be an exciting and rewarding journey. Here are five key points to help you get started:\n",
            "\n",
            "1. **Choose a Programming Language**: Start with a beginner-friendly language such as Python, JavaScript, or Ruby. Python is often recommended for its readability and versatility, making it suitable for various applications, from web development to data science.\n",
            "\n",
            "2. **Utilize Online Resources**: Take advantage of online platforms like Codecademy, freeCodeCamp, Coursera, or edX. These platforms offer structured courses, tutorials, and exercises that can help you learn at your own pace.\n",
            "\n",
            "3. **Practice Regularly**: Consistent practice is crucial for mastering programming. Work on small projects, solve coding challenges on platforms like LeetCode or HackerRank, and contribute to open-source projects to apply what you’ve learned.\n",
            "\n",
            "4. **Join a Community**: Engage with other learners and experienced programmers through forums like Stack Overflow, Reddit, or local coding meetups. Participating in a community can provide support, motivation, and valuable feedback.\n",
            "\n",
            "5. **Build Projects**: Start creating your own projects, no matter how simple. Building real-world applications helps reinforce your skills, allows you to experiment with new concepts, and creates a portfolio that showcases your abilities to potential employers.\n",
            "\n",
            "By following these points, you'll establish a solid foundation in programming and develop the skills needed to tackle more complex challenges over time.\n"
          ]
        }
      ],
      "source": [
        "# General query\n",
        "response = llm.invoke(\"How to learn programming? give 5 points\")\n",
        "print(response.content)"
      ]
    },
    {
      "cell_type": "markdown",
      "metadata": {
        "id": "QJBCqkTXCmg2"
      },
      "source": [
        "### **Loading the documents**\n",
        "\n",
        "[PDF Loader](https://python.langchain.com/docs/how_to/document_loader_pdf/)"
      ]
    },
    {
      "cell_type": "code",
      "source": [
        "# Download PDFs\n",
        "!gdown https://drive.google.com/uc?id=1Wy00e_FEBVwMx-jZBklNk9dzEW9a-LHc        # pca_d1.pdf  -  PCA (Principal Component Analysis)\n",
        "!gdown https://drive.google.com/uc?id=1gMv6Ew7oGCPD0CA4D5iN_zAUBWY-SSJQ        # ens_d2.pdf  -  Ensemble Methods"
      ],
      "metadata": {
        "colab": {
          "base_uri": "https://localhost:8080/"
        },
        "id": "XF_LkyVxJNwL",
        "outputId": "f22cf7b4-1fe4-44af-fb1c-1e081a8f8293"
      },
      "execution_count": 5,
      "outputs": [
        {
          "output_type": "stream",
          "name": "stdout",
          "text": [
            "Downloading...\n",
            "From: https://drive.google.com/uc?id=1Wy00e_FEBVwMx-jZBklNk9dzEW9a-LHc\n",
            "To: /content/pca_d1.pdf\n",
            "100% 204k/204k [00:00<00:00, 56.7MB/s]\n",
            "Downloading...\n",
            "From: https://drive.google.com/uc?id=1gMv6Ew7oGCPD0CA4D5iN_zAUBWY-SSJQ\n",
            "To: /content/ens_d2.pdf\n",
            "100% 110k/110k [00:00<00:00, 63.1MB/s]\n"
          ]
        }
      ]
    },
    {
      "cell_type": "code",
      "execution_count": 6,
      "metadata": {
        "id": "e_GL3dr9GG05"
      },
      "outputs": [],
      "source": [
        "# UPLOAD the Docs first to this notebook, then run this cell\n",
        "\n",
        "from langchain_community.document_loaders import PyPDFLoader\n",
        "\n",
        "# Load PDF\n",
        "loaders = [\n",
        "    PyPDFLoader(\"/content/pca_d1.pdf\"),\n",
        "    PyPDFLoader(\"/content/ens_d2.pdf\"),\n",
        "]\n",
        "\n",
        "docs = []\n",
        "for loader in loaders:\n",
        "    docs.extend(loader.load())\n"
      ]
    },
    {
      "cell_type": "code",
      "execution_count": null,
      "metadata": {
        "colab": {
          "base_uri": "https://localhost:8080/"
        },
        "id": "Duzb1D3qPGix",
        "outputId": "a7127f0e-895b-4d02-cd8c-7e9cce4563e4"
      },
      "outputs": [
        {
          "output_type": "execute_result",
          "data": {
            "text/plain": [
              "5"
            ]
          },
          "metadata": {},
          "execution_count": 8
        }
      ],
      "source": [
        "len(docs)        # 7 pages were there in total from above documents"
      ]
    },
    {
      "cell_type": "code",
      "execution_count": null,
      "metadata": {
        "colab": {
          "base_uri": "https://localhost:8080/"
        },
        "id": "NxinwPVCOkcI",
        "outputId": "1f0780f4-ccac-4d1c-ed29-91052b32ccf1"
      },
      "outputs": [
        {
          "output_type": "execute_result",
          "data": {
            "text/plain": [
              "[Document(metadata={'source': '/content/pca_d1.pdf', 'page': 0}, page_content=' \\n1 \\n \\n \\nN \\n \\n1 Principal Component Analysis \\nIn real world data analysis tasks we analyze complex data i.e. multi dimensional data. We plot the  \\ndata and find various patterns in it or use it to train some machine learning models.  One way to  \\nthink about dimensions is that suppose you have an data point x , if we consider this data point as \\na physical object then dimensions are merely a basis of view, like where is the data located when \\nit is observed from horizontal axis or vertical axis. \\nAs the dimensions of data increases, the difficulty to visualize it and perform computations on \\nit also increases. So, how to reduce the dimensions of a data:- \\n• Remove the redundant dimensions \\n• Only keep the most important dimensions  \\nLet us first try to understand some terms:- \\nVariance : It is a measure of the variability or it simply measures how spread the data set is.  \\nMathematically, it is the average squared deviation from the mean score. We use the following \\nformula to compute variance var(x). \\n \\nvar(x) = \\nΣ(xi−x¯)2 \\nN \\nCovariance :  It is a measure of the extent to which corresponding elements from two sets of  \\nordered data move in the same direction. Formula is shown below denoted by cov(x,y) as the  \\ncovariance of x and y. \\nvar(x)  =  \\nΣ(xi−x¯)(yi−y¯) \\n• Here, xi is the value of x in ith dimension. \\n• x bar and y bar denote the corresponding mean values. \\n• One way to observe the covariance is how interrelated two data sets are. \\nPositive covariance means X and Y are positively related i.e. as X increases Y also increases.  \\nNegative covariance depicts the exact opposite relation.  However zero covariance means X and Y  \\nare not related. \\nNow lets think about the requirement of data analysis. \\nSince we try to find the patterns among the data sets so we want the data to be spread out  \\nacross each dimension. Also, we want the dimensions to be independent. Such that if data has high \\ncovariance when represented in some n number of dimensions then we replace those dimensions  \\nwith linear combination of those n dimensions. Now that data will only be dependent on linear  \\ncombination of those related n dimensions. (related = have high covariance) \\n'),\n",
              " Document(metadata={'source': '/content/pca_d1.pdf', 'page': 1}, page_content=' \\n2 \\n \\n \\n \\nSo, what does Principal Component Analysis (PCA) do? \\nPCA finds a new set of dimensions (or a set of basis of views) such that all the dimensions are  \\northogonal (and hence linearly independent) and ranked according to the variance of data along  \\nthem. It means more important principle axis occurs first. (more important = more variance/more  \\nspread out data) \\n \\nHow does PCA work? \\n• Calculate the covariance matrix X of data points. \\n• Calculate eigenvectors and corresponding eigenvalues. \\n• Sort the eigenvectors according to their eigenvalues in decreasing order. \\n• Choose first k eigenvectors and that will be the new k dimensions. \\n• Transform the original n dimensional data points into k dimensions. \\n \\nTo understand the detail working of PCA, we should have knowledge of eigen values and eigen  \\nvectors \\n \\nEigenvectors: The directions in which our data are dispersed. \\nEigenvalues: The relative importance of these different directions. \\n \\n[Covariance matrix].[Eigenvector] = [eigenvalue].[Eigenvector] \\nLets look into what a covariance matrix is? \\nA covariance matrix of some data set in 4 dimensions a,b,c,d. \\n□ Va Ca,b Ca,c Ca,d Ca,e \\n  \\n□ Ca,b Vb Cb,c Cb,d Cb,e \\n  \\n \\n \\nVa : variance along dimension a \\nCa,b : Covariance along dimension a and b \\nIf we have a matrix X of m*n dimension such that it holds n data points of m dimensions, then \\ncovariance matrix can be calculated as \\nC   =    1  (X − X¯ )(X − X¯ )T \\n \\nx n−1 \\nIt is important to note that the covariance matrix contains:- \\n• variance of dimensions as the main diagonal elements. \\n• covariance of dimensions as the off diagonal elements. \\nAlso, covariance matrix is symmetric (observe from the image above) \\nCa,c Cb,c Vc Cc,d Cc e \\nCa,d Cb,d Cc,d Vd Cd e \\nCa,e Cb,e Cc,e Cd,e Ve \\n '),\n",
              " Document(metadata={'source': '/content/pca_d1.pdf', 'page': 2}, page_content=' \\n3 \\n \\n \\n \\nAs, we discussed earlier we want the data to be spread out i.e. it should have high variance along  \\ndimensions. Also  we want to remove correlated dimensions i.e. covariance among the dimensions  \\nshould be zero (they should be linearly independent). \\nTherefore, our covariance matrix should have:- \\n• large numbers as the main diagonal elements. \\n• zero values as the off diagonal elements. \\nWe call it a diagonal matrix. So, we have to transform the original data points such that their  \\ncovariance is a diagonal matrix. \\nAlways normalize your data before doing PCA if we use data (features here) of different scales, we \\nget misleading components. We can also simply use correlation matrix instead of using covariance  \\nmatrix if features are of different scales. \\nThis defines the goal of PCA:- \\n1. Find linearly independent dimensions which can losslessly represent the data points. \\n2. Those newly found dimensions should allow us to predict/reconstruct the original dimensions. '),\n",
              " Document(metadata={'source': '/content/ens_d2.pdf', 'page': 0}, page_content='1  \\n \\nEnsemble Methods \\nLet us consider a real world situation which uses Ensemble Methods, which is, when a user wants \\nto buy a new product. Many users who have already purchased that product will have given either  \\npositive or negative ratings. If in the group, many users have given positive ratings, then the \\ncombined rating will be positive. Instead of a single rating, the ratings of the group of users is \\nconsidered. The product is bought by the user when the combined ratings of the group is positive. \\nThe user gets a fairer idea about the product when all the ratings are combined. \\nHere, the combination of ratings is done so that the decision making process of the user is made  \\neasy. \\nEnsemble Methods refer to combining many different machine learning models in order to get a  \\nmore powerful prediction. \\nThus, ensemble methods increase the accuracy of the predictions. \\n \\nWhy use Ensemble Methods? \\nEnsemble Methods are used in order to: \\n• decrease variance (bagging) \\n• decrease bias (boosting) \\n• improve predictions (stacking) \\n \\nBagging \\nBagging actually refers to Bootstrap Aggregators. \\nBagging tests multiple models on the data by sampling and replacing data i.e it utilizes bootstrap - \\nping. In turn, this reduces the noise and variance by utilizing multiple samples. Each hypothesis \\nhas the same weight as all the others. Now, aggregating of the outputs of various models is done. \\n \\nBoosting \\nBoosting is an iterative technique which adjusts the weight of an observation based on the last  \\nclassification. If an observation was classified incorrectly, it tries to increase the weight of this  \\nobservation and vice versa. Boosting in general decreases the bias error and builds strong predictive  \\nmodels. \\n \\nVariance \\nVariance quantifies how the predictions made on same observation are different from each other. A  \\nhigh variance model will over -fit on your training population and perform badly on any observation  \\nbeyond training. Thus, we aim at low variance. '),\n",
              " Document(metadata={'source': '/content/ens_d2.pdf', 'page': 1}, page_content='2  \\n \\nBias \\nBias error is useful to quantify how much on on average are the predicted values different from the  \\nactual value. A high  bias  error means we have a under -performing model.  Thus,  we aim at low  \\nbias. \\nA commonly used class of ensemble methods are forests of randomized trees. \\nIn random forests, each tree in the ensemble is built from a sample drawn with replacement (i.e. \\na bootstrap sample) from the training set. In addition, instead of using all the features, a random  \\nsubset of features is selected, further randomizing the tree. \\nAs a result, the bias of the forest increases slightly, but due to the averaging of less correlated  \\ntrees, its variance decreases, resulting in an overall better model. ')]"
            ]
          },
          "metadata": {},
          "execution_count": 9
        }
      ],
      "source": [
        "docs"
      ]
    },
    {
      "cell_type": "code",
      "execution_count": null,
      "metadata": {
        "colab": {
          "base_uri": "https://localhost:8080/"
        },
        "collapsed": true,
        "id": "0A3xSoDADmAf",
        "outputId": "96fa23b9-adab-47b4-8a15-a0eb802ffde9"
      },
      "outputs": [
        {
          "output_type": "stream",
          "name": "stdout",
          "text": [
            " \n",
            "1 \n",
            " \n",
            " \n",
            "N \n",
            " \n",
            "1 Principal Component Analysis \n",
            "In real world data analysis tasks we analyze complex data i.e. multi dimensional data. We plot the  \n",
            "data and find various patterns in it or use it to train some machine learning models.  One way to  \n",
            "think about dimensions is that suppose you have an data point x , if we consider this data point as \n",
            "a physical object then dimensions are merely a basis of view, like where is the data located when \n",
            "it is observed from horizontal axis or vertical axis. \n",
            "As the dimensions of data increases, the difficulty to visualize it and perform computations on \n",
            "it also increases. So, how to reduce the dimensions of a data:- \n",
            "• Remove the redundant dimensions \n",
            "• Only keep the most important dimensions  \n",
            "Let us first try to understand some terms:- \n",
            "Variance : It is a measure of the variability or it simply measures how spread the data set is.  \n",
            "Mathematically, it is the average squared deviation from the mean score. We use the following \n",
            "formula to compute variance var(x). \n",
            " \n",
            "var(x) = \n",
            "Σ(xi−x¯)2 \n",
            "N \n",
            "Covariance :  It is a measure of the extent to which corresponding elements from two sets of  \n",
            "ordered data move in the same direction. Formula is shown below denoted by cov(x,y) as the  \n",
            "covariance of x and y. \n",
            "var(x)  =  \n",
            "Σ(xi−x¯)(yi−y¯) \n",
            "• Here, xi is the value of x in ith dimension. \n",
            "• x bar and y bar denote the corresponding mean values. \n",
            "• One way to observe the covariance is how interrelated two data sets are. \n",
            "Positive covariance means X and Y are positively related i.e. as X increases Y also increases.  \n",
            "Negative covariance depicts the exact opposite relation.  However zero covariance means X and Y  \n",
            "are not related. \n",
            "Now lets think about the requirement of data analysis. \n",
            "Since we try to find the patterns among the data sets so we want the data to be spread out  \n",
            "across each dimension. Also, we want the dimensions to be independent. Such that if data has high \n",
            "covariance when represented in some n number of dimensions then we replace those dimensions  \n",
            "with linear combination of those n dimensions. Now that data will only be dependent on linear  \n",
            "combination of those related n dimensions. (related = have high covariance) \n",
            "\n"
          ]
        }
      ],
      "source": [
        "print(docs[0].page_content)"
      ]
    },
    {
      "cell_type": "markdown",
      "metadata": {
        "id": "wdrvHT_28jvw"
      },
      "source": [
        "### **Splitting of document**\n",
        "\n",
        "[Recursively split by character](https://python.langchain.com/docs/how_to/recursive_text_splitter/)\n",
        "\n",
        "[Split by character](https://python.langchain.com/docs/how_to/character_text_splitter/)"
      ]
    },
    {
      "cell_type": "code",
      "execution_count": 7,
      "metadata": {
        "id": "duFVDKbk8qpo"
      },
      "outputs": [],
      "source": [
        "from langchain_text_splitters import RecursiveCharacterTextSplitter"
      ]
    },
    {
      "cell_type": "code",
      "execution_count": 8,
      "metadata": {
        "id": "uKSoLugt9hgs"
      },
      "outputs": [],
      "source": [
        "# Split\n",
        "text_splitter = RecursiveCharacterTextSplitter(\n",
        "    chunk_size = 500,\n",
        "    chunk_overlap = 50\n",
        ")"
      ]
    },
    {
      "cell_type": "code",
      "execution_count": 9,
      "metadata": {
        "colab": {
          "base_uri": "https://localhost:8080/",
          "height": 109
        },
        "id": "4mjs7XDl9m6b",
        "outputId": "c007403e-8942-440f-a18b-16e5eefd17d4"
      },
      "outputs": [
        {
          "output_type": "stream",
          "name": "stdout",
          "text": [
            "19\n",
            "443\n"
          ]
        },
        {
          "output_type": "execute_result",
          "data": {
            "text/plain": [
              "'1 \\n \\n \\nN \\n \\n1 Principal Component Analysis \\nIn real world data analysis tasks we analyze complex data i.e. multi dimensional data. We plot the  \\ndata and find various patterns in it or use it to train some machine learning models.  One way to  \\nthink about dimensions is that suppose you have an data point x , if we consider this data point as \\na physical object then dimensions are merely a basis of view, like where is the data located when'"
            ],
            "application/vnd.google.colaboratory.intrinsic+json": {
              "type": "string"
            }
          },
          "metadata": {},
          "execution_count": 9
        }
      ],
      "source": [
        "splits = text_splitter.split_documents(docs)\n",
        "\n",
        "print(len(splits))\n",
        "print(len(splits[0].page_content) )\n",
        "splits[0].page_content"
      ]
    },
    {
      "cell_type": "code",
      "execution_count": null,
      "metadata": {
        "colab": {
          "base_uri": "https://localhost:8080/"
        },
        "id": "y-QuwWdH2-vt",
        "outputId": "3ee7f50a-d193-4b5e-a833-dc5ee7a374c9"
      },
      "outputs": [
        {
          "output_type": "execute_result",
          "data": {
            "text/plain": [
              "Document(metadata={'source': '/content/pca_d1.pdf', 'page': 0}, page_content='1 \\n \\n \\nN \\n \\n1 Principal Component Analysis \\nIn real world data analysis tasks we analyze complex data i.e. multi dimensional data. We plot the  \\ndata and find various patterns in it or use it to train some machine learning models.  One way to  \\nthink about dimensions is that suppose you have an data point x , if we consider this data point as \\na physical object then dimensions are merely a basis of view, like where is the data located when')"
            ]
          },
          "metadata": {},
          "execution_count": 14
        }
      ],
      "source": [
        "splits[0]"
      ]
    },
    {
      "cell_type": "markdown",
      "metadata": {
        "id": "JuSgQ0p_-d97"
      },
      "source": [
        "### **Embeddings**\n",
        "\n",
        "Let's take our splits and embed them."
      ]
    },
    {
      "cell_type": "code",
      "execution_count": 10,
      "metadata": {
        "id": "rEcodF14Gkuv"
      },
      "outputs": [],
      "source": [
        "from langchain_openai import OpenAIEmbeddings\n",
        "\n",
        "embedding = OpenAIEmbeddings(model='text-embedding-3-small')"
      ]
    },
    {
      "cell_type": "code",
      "execution_count": null,
      "metadata": {
        "colab": {
          "base_uri": "https://localhost:8080/"
        },
        "id": "OaXEK1AkGxod",
        "outputId": "0161d39f-804f-4faa-f8ec-6a136e63444a"
      },
      "outputs": [
        {
          "output_type": "execute_result",
          "data": {
            "text/plain": [
              "OpenAIEmbeddings(client=<openai.resources.embeddings.Embeddings object at 0x790d91275210>, async_client=<openai.resources.embeddings.AsyncEmbeddings object at 0x790d912778b0>, model='text-embedding-3-small', dimensions=None, deployment='text-embedding-ada-002', openai_api_version=None, openai_api_base=None, openai_api_type=None, openai_proxy=None, embedding_ctx_length=8191, openai_api_key=SecretStr('**********'), openai_organization=None, allowed_special=None, disallowed_special=None, chunk_size=1000, max_retries=2, request_timeout=None, headers=None, tiktoken_enabled=True, tiktoken_model_name=None, show_progress_bar=False, model_kwargs={}, skip_empty=False, default_headers=None, default_query=None, retry_min_seconds=4, retry_max_seconds=20, http_client=None, http_async_client=None, check_embedding_ctx_length=True)"
            ]
          },
          "metadata": {},
          "execution_count": 16
        }
      ],
      "source": [
        "embedding"
      ]
    },
    {
      "cell_type": "markdown",
      "metadata": {
        "id": "_c6sV1LZAn2L"
      },
      "source": [
        "### **Vectorstores**"
      ]
    },
    {
      "cell_type": "code",
      "execution_count": 11,
      "metadata": {
        "id": "P_-M_ifhAsAj"
      },
      "outputs": [],
      "source": [
        "from langchain_chroma import Chroma       # Light-weight and in memory"
      ]
    },
    {
      "cell_type": "code",
      "execution_count": 12,
      "metadata": {
        "id": "psySqG1WAwCZ"
      },
      "outputs": [],
      "source": [
        "persist_directory = 'docs/chroma/'\n",
        "!rm -rf ./docs/chroma  # remove old database files if any"
      ]
    },
    {
      "cell_type": "code",
      "execution_count": 13,
      "metadata": {
        "id": "Rfidz1UDA8B6"
      },
      "outputs": [],
      "source": [
        "vectordb = Chroma.from_documents(\n",
        "    documents=splits,                    # splits we created earlier\n",
        "    embedding=embedding,\n",
        "    persist_directory=persist_directory, # save the directory\n",
        ")"
      ]
    },
    {
      "cell_type": "code",
      "execution_count": 14,
      "metadata": {
        "colab": {
          "base_uri": "https://localhost:8080/"
        },
        "id": "zy88zfxWBjOv",
        "outputId": "876febb5-d505-4b4e-9742-b24d39f0cc3c"
      },
      "outputs": [
        {
          "output_type": "stream",
          "name": "stdout",
          "text": [
            "19\n"
          ]
        }
      ],
      "source": [
        "print(vectordb._collection.count()) # same as number of splits"
      ]
    },
    {
      "cell_type": "markdown",
      "metadata": {
        "id": "34sLEBpRGm-u"
      },
      "source": [
        "### **Similarity Search in Vector store**\n",
        "\n",
        "Algorithms for retrieving relevant chunks In Vector databases,\n",
        "\n",
        "In vector databases, algorithms for retrieving relevant chunks to a query are often based on **similarity search techniques**, primarily using nearest neighbor search.\n",
        "\n",
        "Here are some common approaches:\n",
        "\n",
        ">**Approximate Nearest Neighbor (ANN) Search:** Vector databases frequently use ANN algorithms to improve efficiency when searching for vectors that\n",
        "are close to the query vector.\n",
        ">\n",
        ">Popular **ANN** algorithms include:\n",
        ">\n",
        ">1. HNSW (Hierarchical Navigable Small World Graph): This is a graph-based approach that finds approximate nearest neighbors using a multi-\n",
        "layered graph structure.\n",
        ">\n",
        ">2. Faiss: An open-source library developed by Facebook, which uses various algorithms for fast similarity search, such as Product Quantization and\n",
        "Inverted File System (IVF).\n",
        ">\n",
        ">3. Annoy (Approximate Nearest Neighbors Oh Yeah): Developed by Spotify, it uses a forest of random projection trees for approximate nearest\n",
        "neighbor search.\n"
      ]
    },
    {
      "cell_type": "code",
      "execution_count": null,
      "metadata": {
        "id": "X0o4yUxfGo_W"
      },
      "outputs": [],
      "source": [
        "question = \"How does ensemble method works?\""
      ]
    },
    {
      "cell_type": "code",
      "execution_count": 15,
      "metadata": {
        "collapsed": true,
        "id": "BZsCVQUrGsEm",
        "colab": {
          "base_uri": "https://localhost:8080/",
          "height": 147
        },
        "outputId": "ab97cb22-fa37-404f-d09d-305fc046c9de"
      },
      "outputs": [
        {
          "output_type": "error",
          "ename": "NameError",
          "evalue": "name 'question' is not defined",
          "traceback": [
            "\u001b[0;31m---------------------------------------------------------------------------\u001b[0m",
            "\u001b[0;31mNameError\u001b[0m                                 Traceback (most recent call last)",
            "\u001b[0;32m<ipython-input-15-ed60d671f229>\u001b[0m in \u001b[0;36m<cell line: 1>\u001b[0;34m()\u001b[0m\n\u001b[0;32m----> 1\u001b[0;31m \u001b[0mdocs\u001b[0m \u001b[0;34m=\u001b[0m \u001b[0mvectordb\u001b[0m\u001b[0;34m.\u001b[0m\u001b[0msimilarity_search\u001b[0m\u001b[0;34m(\u001b[0m\u001b[0mquestion\u001b[0m\u001b[0;34m,\u001b[0m \u001b[0mk\u001b[0m\u001b[0;34m=\u001b[0m\u001b[0;36m6\u001b[0m\u001b[0;34m)\u001b[0m     \u001b[0;31m# k --> No. of Document object to return\u001b[0m\u001b[0;34m\u001b[0m\u001b[0;34m\u001b[0m\u001b[0m\n\u001b[0m",
            "\u001b[0;31mNameError\u001b[0m: name 'question' is not defined"
          ]
        }
      ],
      "source": [
        "docs = vectordb.similarity_search(question, k=6)     # k --> No. of Document object to return"
      ]
    },
    {
      "cell_type": "code",
      "execution_count": null,
      "metadata": {
        "colab": {
          "base_uri": "https://localhost:8080/"
        },
        "id": "XMvtnoEiaeqL",
        "outputId": "bf1ae018-631e-4bca-eade-45006ab0bc31"
      },
      "outputs": [
        {
          "output_type": "stream",
          "name": "stdout",
          "text": [
            "6\n",
            "Why use Ensemble Methods? \n",
            "Ensemble Methods are used in order to: \n",
            "• decrease variance (bagging) \n",
            "• decrease bias (boosting) \n",
            "• improve predictions (stacking) \n",
            " \n",
            "Bagging \n",
            "Bagging actually refers to Bootstrap Aggregators. \n",
            "Bagging tests multiple models on the data by sampling and replacing data i.e it utilizes bootstrap - \n",
            "ping. In turn, this reduces the noise and variance by utilizing multiple samples. Each hypothesis\n",
            "============================================================================================================================================\n",
            "considered. The product is bought by the user when the combined ratings of the group is positive. \n",
            "The user gets a fairer idea about the product when all the ratings are combined. \n",
            "Here, the combination of ratings is done so that the decision making process of the user is made  \n",
            "easy. \n",
            "Ensemble Methods refer to combining many different machine learning models in order to get a  \n",
            "more powerful prediction. \n",
            "Thus, ensemble methods increase the accuracy of the predictions.\n",
            "============================================================================================================================================\n",
            "1  \n",
            " \n",
            "Ensemble Methods \n",
            "Let us consider a real world situation which uses Ensemble Methods, which is, when a user wants \n",
            "to buy a new product. Many users who have already purchased that product will have given either  \n",
            "positive or negative ratings. If in the group, many users have given positive ratings, then the \n",
            "combined rating will be positive. Instead of a single rating, the ratings of the group of users is\n",
            "============================================================================================================================================\n",
            "2  \n",
            " \n",
            "Bias \n",
            "Bias error is useful to quantify how much on on average are the predicted values different from the  \n",
            "actual value. A high  bias  error means we have a under -performing model.  Thus,  we aim at low  \n",
            "bias. \n",
            "A commonly used class of ensemble methods are forests of randomized trees. \n",
            "In random forests, each tree in the ensemble is built from a sample drawn with replacement (i.e. \n",
            "a bootstrap sample) from the training set. In addition, instead of using all the features, a random\n",
            "============================================================================================================================================\n",
            "has the same weight as all the others. Now, aggregating of the outputs of various models is done. \n",
            " \n",
            "Boosting \n",
            "Boosting is an iterative technique which adjusts the weight of an observation based on the last  \n",
            "classification. If an observation was classified incorrectly, it tries to increase the weight of this  \n",
            "observation and vice versa. Boosting in general decreases the bias error and builds strong predictive  \n",
            "models. \n",
            " \n",
            "Variance\n",
            "============================================================================================================================================\n",
            "2 \n",
            " \n",
            " \n",
            " \n",
            "So, what does Principal Component Analysis (PCA) do? \n",
            "PCA finds a new set of dimensions (or a set of basis of views) such that all the dimensions are  \n",
            "orthogonal (and hence linearly independent) and ranked according to the variance of data along  \n",
            "them. It means more important principle axis occurs first. (more important = more variance/more  \n",
            "spread out data) \n",
            " \n",
            "How does PCA work? \n",
            "• Calculate the covariance matrix X of data points.\n",
            "============================================================================================================================================\n"
          ]
        }
      ],
      "source": [
        "print(len(docs))\n",
        "\n",
        "for i in range(len(docs)):\n",
        "    print(docs[i].page_content)\n",
        "    print('='*140)"
      ]
    },
    {
      "cell_type": "markdown",
      "metadata": {
        "id": "4F5AXqC6I3gN"
      },
      "source": [
        "### **Edge cases where failure may happen**\n",
        "\n",
        "1. Lack of Diversity : Semantic search fetches all similar documents, but does not enforce diversity.\n",
        "\n",
        "    - Notice that we're getting duplicate chunks (because of the duplicate `ens_d2.pdf` in the index). `docs[0]` and `docs[1]` are indentical.\n",
        "\n",
        "  **Addressing Diversity - MMR (Maximum Marginal Relevance)**"
      ]
    },
    {
      "cell_type": "markdown",
      "metadata": {
        "id": "TE6AOc3ZTL8x"
      },
      "source": [
        "Maximum Marginal Relevance (MMR) is a method used to retrieve relevant items to a query while avoiding redundancy. It does this by ensuring a balance between relevancy and diversity in the items retrieved.\n",
        "\n",
        "<img src='https://miro.medium.com/v2/resize:fit:828/format:webp/1*U-9mPt5tBfPBPrwC4_oD1w.png'>"
      ]
    },
    {
      "cell_type": "code",
      "execution_count": 16,
      "metadata": {
        "colab": {
          "base_uri": "https://localhost:8080/"
        },
        "id": "jpwufsTuI-Uz",
        "outputId": "90af1155-6e74-4937-e939-785301c49f0d"
      },
      "outputs": [
        {
          "output_type": "stream",
          "name": "stdout",
          "text": [
            "3\n",
            "Why use Ensemble Methods? \n",
            "Ensemble Methods are used in order to: \n",
            "• decrease variance (bagging) \n",
            "• decrease bias (boosting) \n",
            "• improve predictions (stacking) \n",
            " \n",
            "Bagging \n",
            "Bagging actually refers to Bootstrap Aggregators. \n",
            "Bagging tests multiple models on the data by sampling and replacing data i.e it utilizes bootstrap - \n",
            "ping. In turn, this reduces the noise and variance by utilizing multiple samples. Each hypothesis\n",
            "============================================================================================================================================\n",
            "considered. The product is bought by the user when the combined ratings of the group is positive. \n",
            "The user gets a fairer idea about the product when all the ratings are combined. \n",
            "Here, the combination of ratings is done so that the decision making process of the user is made  \n",
            "easy. \n",
            "Ensemble Methods refer to combining many different machine learning models in order to get a  \n",
            "more powerful prediction. \n",
            "Thus, ensemble methods increase the accuracy of the predictions.\n",
            "============================================================================================================================================\n",
            "1  \n",
            " \n",
            "Ensemble Methods \n",
            "Let us consider a real world situation which uses Ensemble Methods, which is, when a user wants \n",
            "to buy a new product. Many users who have already purchased that product will have given either  \n",
            "positive or negative ratings. If in the group, many users have given positive ratings, then the \n",
            "combined rating will be positive. Instead of a single rating, the ratings of the group of users is\n",
            "============================================================================================================================================\n"
          ]
        }
      ],
      "source": [
        "question = 'How ensemble method works?'\n",
        "docs = vectordb.similarity_search(question, k=3)     # Without MMR\n",
        "\n",
        "print(len(docs))\n",
        "\n",
        "for i in range(len(docs)):\n",
        "    print(docs[i].page_content)\n",
        "    print('='*140)"
      ]
    },
    {
      "cell_type": "markdown",
      "metadata": {
        "id": "CVlwfHLOJNET"
      },
      "source": [
        "**Example 1. Addressing Diversity - MMR-Maximum Marginal Relevance**"
      ]
    },
    {
      "cell_type": "code",
      "execution_count": 17,
      "metadata": {
        "colab": {
          "base_uri": "https://localhost:8080/"
        },
        "id": "97gx2ZzBJO-z",
        "outputId": "1fc2071f-a3b3-4b49-8ad5-5b87661d6950"
      },
      "outputs": [
        {
          "output_type": "stream",
          "name": "stdout",
          "text": [
            "3\n",
            "Why use Ensemble Methods? \n",
            "Ensemble Methods are used in order to: \n",
            "• decrease variance (bagging) \n",
            "• decrease bias (boosting) \n",
            "• improve predictions (stacking) \n",
            " \n",
            "Bagging \n",
            "Bagging actually refers to Bootstrap Aggregators. \n",
            "Bagging tests multiple models on the data by sampling and replacing data i.e it utilizes bootstrap - \n",
            "ping. In turn, this reduces the noise and variance by utilizing multiple samples. Each hypothesis\n",
            "============================================================================================================================================\n",
            "1  \n",
            " \n",
            "Ensemble Methods \n",
            "Let us consider a real world situation which uses Ensemble Methods, which is, when a user wants \n",
            "to buy a new product. Many users who have already purchased that product will have given either  \n",
            "positive or negative ratings. If in the group, many users have given positive ratings, then the \n",
            "combined rating will be positive. Instead of a single rating, the ratings of the group of users is\n",
            "============================================================================================================================================\n",
            "2 \n",
            " \n",
            " \n",
            " \n",
            "So, what does Principal Component Analysis (PCA) do? \n",
            "PCA finds a new set of dimensions (or a set of basis of views) such that all the dimensions are  \n",
            "orthogonal (and hence linearly independent) and ranked according to the variance of data along  \n",
            "them. It means more important principle axis occurs first. (more important = more variance/more  \n",
            "spread out data) \n",
            " \n",
            "How does PCA work? \n",
            "• Calculate the covariance matrix X of data points.\n",
            "============================================================================================================================================\n"
          ]
        }
      ],
      "source": [
        "docs_with_mmr = vectordb.max_marginal_relevance_search(question, k=3, fetch_k=6)   # With MMR\n",
        "\n",
        "print(len(docs_with_mmr))\n",
        "\n",
        "for i in range(len(docs_with_mmr)):\n",
        "    print(docs_with_mmr[i].page_content)\n",
        "    print('='*140)"
      ]
    },
    {
      "cell_type": "markdown",
      "metadata": {
        "id": "jNmQcZc8nvDm"
      },
      "source": [
        "2. Lack of specificity:  The question may be from a particular doc but answer may contain information from other doc.\n",
        "\n",
        "  **Addressing Specificity: Working with metadata - Manually**\n",
        "\n",
        "  **Working with metadata using self-query retriever - Automatically**"
      ]
    },
    {
      "cell_type": "markdown",
      "metadata": {
        "id": "SsZDx8-fJ8fE"
      },
      "source": [
        "**Example 2. Addressing Specificity: Working with metadata - Manually**"
      ]
    },
    {
      "cell_type": "code",
      "execution_count": 18,
      "metadata": {
        "colab": {
          "base_uri": "https://localhost:8080/"
        },
        "id": "9IlD3OQhJ-Fb",
        "outputId": "efb91d5f-141e-4056-a589-fe658099f563"
      },
      "outputs": [
        {
          "output_type": "stream",
          "name": "stdout",
          "text": [
            "{'page': 0, 'source': '/content/pca_d1.pdf'}\n",
            "{'page': 0, 'source': '/content/ens_d2.pdf'}\n",
            "{'page': 0, 'source': '/content/pca_d1.pdf'}\n",
            "{'page': 1, 'source': '/content/pca_d1.pdf'}\n",
            "{'page': 1, 'source': '/content/pca_d1.pdf'}\n"
          ]
        }
      ],
      "source": [
        "# Without metadata information\n",
        "question = \"What is variance?\"\n",
        "\n",
        "docs = vectordb.similarity_search(question, k=5)\n",
        "\n",
        "for doc in docs:\n",
        "    print(doc.metadata)    # metadata contains information about from which doc the answer has been fetched"
      ]
    },
    {
      "cell_type": "markdown",
      "metadata": {
        "id": "yCRPVfiSO_eC"
      },
      "source": [
        "We can filter the results based on metadata."
      ]
    },
    {
      "cell_type": "code",
      "execution_count": 19,
      "metadata": {
        "colab": {
          "base_uri": "https://localhost:8080/"
        },
        "id": "it6xqSSrJ-NT",
        "outputId": "fc4e137f-97a6-4fba-fb04-609f4f827746"
      },
      "outputs": [
        {
          "output_type": "stream",
          "name": "stdout",
          "text": [
            "{'page': 0, 'source': '/content/ens_d2.pdf'}\n",
            "{'page': 0, 'source': '/content/ens_d2.pdf'}\n",
            "{'page': 1, 'source': '/content/ens_d2.pdf'}\n",
            "{'page': 1, 'source': '/content/ens_d2.pdf'}\n",
            "{'page': 0, 'source': '/content/ens_d2.pdf'}\n"
          ]
        }
      ],
      "source": [
        "# With metadata information\n",
        "question = \"what is the role of variance in pca?\"\n",
        "docs = vectordb.similarity_search(\n",
        "    question,\n",
        "    k=5,\n",
        "    filter={\"source\":'/content/ens_d2.pdf'}     # manually passing metadata, using metadata filter.\n",
        ")\n",
        "\n",
        "for doc in docs:\n",
        "    print(doc.metadata)"
      ]
    },
    {
      "cell_type": "code",
      "execution_count": 20,
      "metadata": {
        "id": "B-6RjPCZR6IZ"
      },
      "outputs": [],
      "source": [
        "# With metadata information + MMR\n",
        "\n",
        "docs_with_mmr = vectordb.max_marginal_relevance_search(question,\n",
        "                                                       k=2,\n",
        "                                                       fetch_k=5,\n",
        "                                                       filter={\"source\":'/content/ens_d2.pdf'}     # manually passing metadata, using metadata filter.\n",
        "                                                       )"
      ]
    },
    {
      "cell_type": "code",
      "execution_count": 21,
      "metadata": {
        "colab": {
          "base_uri": "https://localhost:8080/"
        },
        "id": "BLF9imzhRJQJ",
        "outputId": "4121a14e-a248-48a8-ee35-2a1722c39d13"
      },
      "outputs": [
        {
          "output_type": "stream",
          "name": "stdout",
          "text": [
            "models. \n",
            " \n",
            "Variance \n",
            "Variance quantifies how the predictions made on same observation are different from each other. A  \n",
            "high variance model will over -fit on your training population and perform badly on any observation  \n",
            "beyond training. Thus, we aim at low variance.\n",
            "============================================================================================================================================\n",
            "subset of features is selected, further randomizing the tree. \n",
            "As a result, the bias of the forest increases slightly, but due to the averaging of less correlated  \n",
            "trees, its variance decreases, resulting in an overall better model.\n",
            "============================================================================================================================================\n"
          ]
        }
      ],
      "source": [
        "for i in range(len(docs_with_mmr)):\n",
        "    print(docs_with_mmr[i].page_content)\n",
        "    print('='*140)"
      ]
    },
    {
      "cell_type": "markdown",
      "metadata": {
        "id": "0Ad08RAEPhVN"
      },
      "source": [
        "[**Addressing Specificity -Automatically: Working with metadata using self-query retriever**](https://python.langchain.com/docs/how_to/self_query/)"
      ]
    },
    {
      "cell_type": "markdown",
      "metadata": {
        "id": "Y6UERPlnQsoP"
      },
      "source": [
        "## **Retrieval**\n",
        "\n",
        "**[Vectorstore as a retriever](https://python.langchain.com/docs/how_to/vectorstore_retriever/)**"
      ]
    },
    {
      "cell_type": "markdown",
      "metadata": {
        "id": "SMc9GmSCT1on"
      },
      "source": [
        "**Better Approach**"
      ]
    },
    {
      "cell_type": "code",
      "execution_count": 22,
      "metadata": {
        "colab": {
          "base_uri": "https://localhost:8080/"
        },
        "id": "s84yVVx2Tgl-",
        "outputId": "2c606a5e-f8a7-474d-c4ae-e7656a9e6298"
      },
      "outputs": [
        {
          "output_type": "execute_result",
          "data": {
            "text/plain": [
              "[Document(metadata={'page': 1, 'source': '/content/pca_d1.pdf'}, page_content='2 \\n \\n \\n \\nSo, what does Principal Component Analysis (PCA) do? \\nPCA finds a new set of dimensions (or a set of basis of views) such that all the dimensions are  \\northogonal (and hence linearly independent) and ranked according to the variance of data along  \\nthem. It means more important principle axis occurs first. (more important = more variance/more  \\nspread out data) \\n \\nHow does PCA work? \\n• Calculate the covariance matrix X of data points.'),\n",
              " Document(metadata={'page': 0, 'source': '/content/pca_d1.pdf'}, page_content='1 \\n \\n \\nN \\n \\n1 Principal Component Analysis \\nIn real world data analysis tasks we analyze complex data i.e. multi dimensional data. We plot the  \\ndata and find various patterns in it or use it to train some machine learning models.  One way to  \\nthink about dimensions is that suppose you have an data point x , if we consider this data point as \\na physical object then dimensions are merely a basis of view, like where is the data located when'),\n",
              " Document(metadata={'page': 2, 'source': '/content/pca_d1.pdf'}, page_content='This defines the goal of PCA:- \\n1. Find linearly independent dimensions which can losslessly represent the data points. \\n2. Those newly found dimensions should allow us to predict/reconstruct the original dimensions.')]"
            ]
          },
          "metadata": {},
          "execution_count": 22
        }
      ],
      "source": [
        "# Without MMR\n",
        "question = \"What is principal component analysis?\"\n",
        "retriever = vectordb.as_retriever(search_kwargs={\"k\": 3})\n",
        "docs = retriever.invoke(question)\n",
        "docs"
      ]
    },
    {
      "cell_type": "code",
      "execution_count": 23,
      "metadata": {
        "colab": {
          "base_uri": "https://localhost:8080/"
        },
        "id": "bfF5Yu7zT0QY",
        "outputId": "5a00864e-04dd-4e9c-f7dd-7c0aa1e38160"
      },
      "outputs": [
        {
          "output_type": "execute_result",
          "data": {
            "text/plain": [
              "[Document(metadata={'page': 1, 'source': '/content/pca_d1.pdf'}, page_content='2 \\n \\n \\n \\nSo, what does Principal Component Analysis (PCA) do? \\nPCA finds a new set of dimensions (or a set of basis of views) such that all the dimensions are  \\northogonal (and hence linearly independent) and ranked according to the variance of data along  \\nthem. It means more important principle axis occurs first. (more important = more variance/more  \\nspread out data) \\n \\nHow does PCA work? \\n• Calculate the covariance matrix X of data points.'),\n",
              " Document(metadata={'page': 0, 'source': '/content/pca_d1.pdf'}, page_content='1 \\n \\n \\nN \\n \\n1 Principal Component Analysis \\nIn real world data analysis tasks we analyze complex data i.e. multi dimensional data. We plot the  \\ndata and find various patterns in it or use it to train some machine learning models.  One way to  \\nthink about dimensions is that suppose you have an data point x , if we consider this data point as \\na physical object then dimensions are merely a basis of view, like where is the data located when')]"
            ]
          },
          "metadata": {},
          "execution_count": 23
        }
      ],
      "source": [
        "# With MMR\n",
        "retriever = vectordb.as_retriever(search_type=\"mmr\", search_kwargs={\"k\": 2, \"fetch_k\":5})\n",
        "docs = retriever.invoke(question)\n",
        "docs"
      ]
    },
    {
      "cell_type": "code",
      "source": [
        "# With MMR\n",
        "retriever = vectordb.as_retriever(search_type=\"mmr\", search_kwargs={\"k\": 2, \"fetch_k\":5, \"filter\": {\"source\": '/content/pca_d1.pdf'}})\n",
        "docs = retriever.invoke(question)\n",
        "docs"
      ],
      "metadata": {
        "id": "HgJOhQroJYZx",
        "colab": {
          "base_uri": "https://localhost:8080/"
        },
        "outputId": "739d1b87-b387-4a55-8314-abefbcfa6207"
      },
      "execution_count": 24,
      "outputs": [
        {
          "output_type": "execute_result",
          "data": {
            "text/plain": [
              "[Document(metadata={'page': 1, 'source': '/content/pca_d1.pdf'}, page_content='2 \\n \\n \\n \\nSo, what does Principal Component Analysis (PCA) do? \\nPCA finds a new set of dimensions (or a set of basis of views) such that all the dimensions are  \\northogonal (and hence linearly independent) and ranked according to the variance of data along  \\nthem. It means more important principle axis occurs first. (more important = more variance/more  \\nspread out data) \\n \\nHow does PCA work? \\n• Calculate the covariance matrix X of data points.'),\n",
              " Document(metadata={'page': 0, 'source': '/content/pca_d1.pdf'}, page_content='1 \\n \\n \\nN \\n \\n1 Principal Component Analysis \\nIn real world data analysis tasks we analyze complex data i.e. multi dimensional data. We plot the  \\ndata and find various patterns in it or use it to train some machine learning models.  One way to  \\nthink about dimensions is that suppose you have an data point x , if we consider this data point as \\na physical object then dimensions are merely a basis of view, like where is the data located when')]"
            ]
          },
          "metadata": {},
          "execution_count": 24
        }
      ]
    },
    {
      "cell_type": "code",
      "source": [
        "# With MMR\n",
        "filter_criteria = {\"source\": {\"$in\": ['/content/pca_d1.pdf', '/content/ens_d2.pdf']}}\n",
        "\n",
        "retriever = vectordb.as_retriever(\n",
        "    search_type=\"mmr\",\n",
        "    search_kwargs={\n",
        "        \"k\": 5,\n",
        "        \"fetch_k\": 7,\n",
        "        \"filter\": filter_criteria\n",
        "    }\n",
        ")\n",
        "\n",
        "# Invoke the retriever with a question\n",
        "docs = retriever.invoke(question)\n",
        "docs"
      ],
      "metadata": {
        "colab": {
          "base_uri": "https://localhost:8080/"
        },
        "id": "zxE7XcdEJn5R",
        "outputId": "6f6c17e7-c14f-4163-f19d-797b06a1d3d0"
      },
      "execution_count": 25,
      "outputs": [
        {
          "output_type": "execute_result",
          "data": {
            "text/plain": [
              "[Document(metadata={'page': 1, 'source': '/content/pca_d1.pdf'}, page_content='2 \\n \\n \\n \\nSo, what does Principal Component Analysis (PCA) do? \\nPCA finds a new set of dimensions (or a set of basis of views) such that all the dimensions are  \\northogonal (and hence linearly independent) and ranked according to the variance of data along  \\nthem. It means more important principle axis occurs first. (more important = more variance/more  \\nspread out data) \\n \\nHow does PCA work? \\n• Calculate the covariance matrix X of data points.'),\n",
              " Document(metadata={'page': 0, 'source': '/content/pca_d1.pdf'}, page_content='1 \\n \\n \\nN \\n \\n1 Principal Component Analysis \\nIn real world data analysis tasks we analyze complex data i.e. multi dimensional data. We plot the  \\ndata and find various patterns in it or use it to train some machine learning models.  One way to  \\nthink about dimensions is that suppose you have an data point x , if we consider this data point as \\na physical object then dimensions are merely a basis of view, like where is the data located when'),\n",
              " Document(metadata={'page': 2, 'source': '/content/pca_d1.pdf'}, page_content='This defines the goal of PCA:- \\n1. Find linearly independent dimensions which can losslessly represent the data points. \\n2. Those newly found dimensions should allow us to predict/reconstruct the original dimensions.'),\n",
              " Document(metadata={'page': 1, 'source': '/content/pca_d1.pdf'}, page_content='• Calculate eigenvectors and corresponding eigenvalues. \\n• Sort the eigenvectors according to their eigenvalues in decreasing order. \\n• Choose first k eigenvectors and that will be the new k dimensions. \\n• Transform the original n dimensional data points into k dimensions. \\n \\nTo understand the detail working of PCA, we should have knowledge of eigen values and eigen  \\nvectors \\n \\nEigenvectors: The directions in which our data are dispersed.'),\n",
              " Document(metadata={'page': 2, 'source': '/content/pca_d1.pdf'}, page_content='• zero values as the off diagonal elements. \\nWe call it a diagonal matrix. So, we have to transform the original data points such that their  \\ncovariance is a diagonal matrix. \\nAlways normalize your data before doing PCA if we use data (features here) of different scales, we \\nget misleading components. We can also simply use correlation matrix instead of using covariance  \\nmatrix if features are of different scales. \\nThis defines the goal of PCA:-')]"
            ]
          },
          "metadata": {},
          "execution_count": 25
        }
      ]
    },
    {
      "cell_type": "markdown",
      "metadata": {
        "id": "8DyRvpuRQ8_T"
      },
      "source": [
        "## **Augmentation**"
      ]
    },
    {
      "cell_type": "code",
      "execution_count": 26,
      "metadata": {
        "id": "86wr6Mv6WLX3"
      },
      "outputs": [],
      "source": [
        "from langchain_core.prompts import PromptTemplate                                    # To format prompts\n",
        "from langchain_core.output_parsers import StrOutputParser                            # to transform the output of an LLM into a more usable format\n",
        "from langchain.schema.runnable import RunnableParallel, RunnablePassthrough          # Required by LCEL (LangChain Expression Language)"
      ]
    },
    {
      "cell_type": "code",
      "execution_count": 27,
      "metadata": {
        "id": "Ng1noLv0WVmY"
      },
      "outputs": [],
      "source": [
        "# Build prompt\n",
        "template = \"\"\"Please use the following context to respond to the question provided at the end.\n",
        "\n",
        "1. If you are unsure about the answer, simply state that you don’t know. Avoid making assumptions or guesses.\n",
        "2. Always conclude your response with: \"Thanks for asking!\"\n",
        "3. If the context includes \"Access Restricted,\" respond with: \"Your Access is Restricted.\"\n",
        "\n",
        "Context:\n",
        "{context}\n",
        "\n",
        "Question: {question}\n",
        "\n",
        "Response:\"\"\"\n",
        "\n",
        "\n",
        "\n",
        "QA_PROMPT = PromptTemplate(input_variables=[\"context\", \"question\"], template=template)"
      ]
    },
    {
      "cell_type": "markdown",
      "metadata": {
        "id": "vSIy0CnwMv2h"
      },
      "source": [
        "## **Creating final RAG Chain**"
      ]
    },
    {
      "cell_type": "markdown",
      "metadata": {
        "id": "8lELTaT0PwPG"
      },
      "source": [
        "> <img src='https://www.pinecone.io/_next/image/?url=https%3A%2F%2Fcdn.sanity.io%2Fimages%2Fvr8gru94%2Fproduction%2F63f8a8482c9ec06a8d7d1041514f87c06dd108a9-3442x942.png&w=3840&q=75' width=1200px>\n",
        "\n",
        "[[Image source](https://www.pinecone.io/learn/series/langchain/langchain-expression-language/)]\n",
        "\n",
        "Above figure describes the LCEL flow using `RunnableParallel` and `RunnablePassthrough`.\n",
        "\n",
        "A Runnable is a **unit of execution** in the LangChain framework. It represents a specific task or operation that can be performed.\n",
        "\n",
        "Examples of Runnables include data transformations, computations, or any other operation that can be **expressed** in the LCEL(LangChain expression language).\n",
        "\n",
        "[Runnable Lambdas](https://api.python.langchain.com/en/latest/runnables/langchain_core.runnables.base.RunnableLambda.html) is a LangChain abstraction that allows us to turn Python functions into **pipe-compatible functions**, similar to the Runnable class.\n",
        "\n",
        "[RunnablePassthrough](https://api.python.langchain.com/en/latest/runnables/langchain_core.runnables.passthrough.RunnablePassthrough.html) on its own allows you to pass inputs unchanged. This typically is **used in conjuction with [RunnableParallel](https://python.langchain.com/v0.1/docs/expression_language/interface/#parallelism)** to pass data through to a new key in the map.\n",
        "\n",
        "The **RunnableParallel** object allows us to define multiple values and operations, and run them all in parallel.\n",
        "\n",
        "The **RunnablePassthrough** object is used as a “passthrough” that takes any input to the current component ('retrieval' in above figure) and allows us to provide it in the component output via the “question” key or any other custom key."
      ]
    },
    {
      "cell_type": "code",
      "source": [
        "def create_retriever_with_filter(refined_question, user_name):\n",
        "    \"\"\" `user1` has access to `pca_d1.pdf`, and\n",
        "        `user2` has access to `ens_d2.pdf` \"\"\"\n",
        "\n",
        "    if user_name == \"user1\":\n",
        "        files = ['/content/pca_d1.pdf']\n",
        "    elif user_name == \"user2\":\n",
        "        files = ['/content/ens_d2.pdf']\n",
        "    else:\n",
        "        return \"Access Restricted\"\n",
        "\n",
        "    # Define your filter criteria dynamically\n",
        "    filter_criteria = {\"source\": {\"$in\": files}}\n",
        "\n",
        "    # Initialize the retriever with filtering\n",
        "    retriever = vectordb.as_retriever(\n",
        "        search_type=\"mmr\",\n",
        "        search_kwargs={\n",
        "            \"k\": 5,\n",
        "            \"fetch_k\": 7,\n",
        "            \"filter\": filter_criteria  # Include the dynamic filter argument\n",
        "        }\n",
        "    )\n",
        "\n",
        "    return retriever.invoke(refined_question)\n"
      ],
      "metadata": {
        "id": "Nb2qSRvaLPTb"
      },
      "execution_count": 28,
      "outputs": []
    },
    {
      "cell_type": "code",
      "source": [
        "retrieved_context = create_retriever_with_filter(\"What is principal component analysis?\", \"user1\")\n",
        "retrieved_context"
      ],
      "metadata": {
        "colab": {
          "base_uri": "https://localhost:8080/"
        },
        "id": "3ITg3MeDpn3D",
        "outputId": "5225eae8-522f-4075-cea9-d6e452679627"
      },
      "execution_count": 33,
      "outputs": [
        {
          "output_type": "execute_result",
          "data": {
            "text/plain": [
              "[Document(metadata={'page': 1, 'source': '/content/pca_d1.pdf'}, page_content='2 \\n \\n \\n \\nSo, what does Principal Component Analysis (PCA) do? \\nPCA finds a new set of dimensions (or a set of basis of views) such that all the dimensions are  \\northogonal (and hence linearly independent) and ranked according to the variance of data along  \\nthem. It means more important principle axis occurs first. (more important = more variance/more  \\nspread out data) \\n \\nHow does PCA work? \\n• Calculate the covariance matrix X of data points.'),\n",
              " Document(metadata={'page': 0, 'source': '/content/pca_d1.pdf'}, page_content='1 \\n \\n \\nN \\n \\n1 Principal Component Analysis \\nIn real world data analysis tasks we analyze complex data i.e. multi dimensional data. We plot the  \\ndata and find various patterns in it or use it to train some machine learning models.  One way to  \\nthink about dimensions is that suppose you have an data point x , if we consider this data point as \\na physical object then dimensions are merely a basis of view, like where is the data located when'),\n",
              " Document(metadata={'page': 2, 'source': '/content/pca_d1.pdf'}, page_content='This defines the goal of PCA:- \\n1. Find linearly independent dimensions which can losslessly represent the data points. \\n2. Those newly found dimensions should allow us to predict/reconstruct the original dimensions.'),\n",
              " Document(metadata={'page': 1, 'source': '/content/pca_d1.pdf'}, page_content='• Calculate eigenvectors and corresponding eigenvalues. \\n• Sort the eigenvectors according to their eigenvalues in decreasing order. \\n• Choose first k eigenvectors and that will be the new k dimensions. \\n• Transform the original n dimensional data points into k dimensions. \\n \\nTo understand the detail working of PCA, we should have knowledge of eigen values and eigen  \\nvectors \\n \\nEigenvectors: The directions in which our data are dispersed.'),\n",
              " Document(metadata={'page': 2, 'source': '/content/pca_d1.pdf'}, page_content='• zero values as the off diagonal elements. \\nWe call it a diagonal matrix. So, we have to transform the original data points such that their  \\ncovariance is a diagonal matrix. \\nAlways normalize your data before doing PCA if we use data (features here) of different scales, we \\nget misleading components. We can also simply use correlation matrix instead of using covariance  \\nmatrix if features are of different scales. \\nThis defines the goal of PCA:-')]"
            ]
          },
          "metadata": {},
          "execution_count": 33
        }
      ]
    },
    {
      "cell_type": "code",
      "source": [
        "# Example usage\n",
        "retrieved_context_1 = create_retriever_with_filter(\"What is principal component analysis?\", \"user2\")\n",
        "retrieved_context_1"
      ],
      "metadata": {
        "colab": {
          "base_uri": "https://localhost:8080/"
        },
        "id": "7Hn9VPlrZGpn",
        "outputId": "2ccacf13-1211-4d17-b8dc-15457b267bd6"
      },
      "execution_count": 30,
      "outputs": [
        {
          "output_type": "execute_result",
          "data": {
            "text/plain": [
              "[Document(metadata={'page': 0, 'source': '/content/ens_d2.pdf'}, page_content='considered. The product is bought by the user when the combined ratings of the group is positive. \\nThe user gets a fairer idea about the product when all the ratings are combined. \\nHere, the combination of ratings is done so that the decision making process of the user is made  \\neasy. \\nEnsemble Methods refer to combining many different machine learning models in order to get a  \\nmore powerful prediction. \\nThus, ensemble methods increase the accuracy of the predictions.'),\n",
              " Document(metadata={'page': 1, 'source': '/content/ens_d2.pdf'}, page_content='subset of features is selected, further randomizing the tree. \\nAs a result, the bias of the forest increases slightly, but due to the averaging of less correlated  \\ntrees, its variance decreases, resulting in an overall better model.'),\n",
              " Document(metadata={'page': 0, 'source': '/content/ens_d2.pdf'}, page_content='has the same weight as all the others. Now, aggregating of the outputs of various models is done. \\n \\nBoosting \\nBoosting is an iterative technique which adjusts the weight of an observation based on the last  \\nclassification. If an observation was classified incorrectly, it tries to increase the weight of this  \\nobservation and vice versa. Boosting in general decreases the bias error and builds strong predictive  \\nmodels. \\n \\nVariance'),\n",
              " Document(metadata={'page': 0, 'source': '/content/ens_d2.pdf'}, page_content='models. \\n \\nVariance \\nVariance quantifies how the predictions made on same observation are different from each other. A  \\nhigh variance model will over -fit on your training population and perform badly on any observation  \\nbeyond training. Thus, we aim at low variance.'),\n",
              " Document(metadata={'page': 0, 'source': '/content/ens_d2.pdf'}, page_content='Why use Ensemble Methods? \\nEnsemble Methods are used in order to: \\n• decrease variance (bagging) \\n• decrease bias (boosting) \\n• improve predictions (stacking) \\n \\nBagging \\nBagging actually refers to Bootstrap Aggregators. \\nBagging tests multiple models on the data by sampling and replacing data i.e it utilizes bootstrap - \\nping. In turn, this reduces the noise and variance by utilizing multiple samples. Each hypothesis')]"
            ]
          },
          "metadata": {},
          "execution_count": 30
        }
      ]
    },
    {
      "cell_type": "code",
      "source": [
        "# Example usage\n",
        "retrieved_context_2 = create_retriever_with_filter(\"What is principal component analysis?\", \"user3\")\n",
        "retrieved_context_2"
      ],
      "metadata": {
        "colab": {
          "base_uri": "https://localhost:8080/",
          "height": 36
        },
        "id": "RA0_fk5fZHoS",
        "outputId": "3e9e570f-f2d6-4345-b032-74527c5c71cd"
      },
      "execution_count": 31,
      "outputs": [
        {
          "output_type": "execute_result",
          "data": {
            "text/plain": [
              "'Access Restricted'"
            ],
            "application/vnd.google.colaboratory.intrinsic+json": {
              "type": "string"
            }
          },
          "metadata": {},
          "execution_count": 31
        }
      ]
    },
    {
      "cell_type": "markdown",
      "source": [
        "#### Refine Question"
      ],
      "metadata": {
        "id": "E5xf2yfSS9Z_"
      }
    },
    {
      "source": [
        "# prompt: Now, I need to add one more functionality in the above block of codes for retrieval and response with access restriction. When I pass on the question, the question should be refined before going to the retrieval. For example, if user ask that \"What is pca\", then it should refine it to \"What is Principal Component Analysis?\". The code can use LLM for refining the question. Give the code for it.\n",
        "\n",
        "from langchain.prompts import PromptTemplate\n",
        "from langchain.chains import LLMChain\n",
        "\n",
        "def refine_question(question):\n",
        "    refine_prompt = PromptTemplate(\n",
        "        input_variables=[\"question\"],\n",
        "        template=\"Refine the following question to be more specific and technically accurate:\\n\\nQuestion: {question}\\n\\nRefined Question:\"\n",
        "    )\n",
        "    refine_chain = LLMChain(llm=llm, prompt=refine_prompt)\n",
        "    refined_question = refine_chain.run(question)\n",
        "    return refined_question\n"
      ],
      "cell_type": "code",
      "metadata": {
        "id": "G5OQj53-L1hi"
      },
      "execution_count": 29,
      "outputs": []
    },
    {
      "cell_type": "code",
      "source": [
        "import warnings\n",
        "# Suppress specific LangChain deprecation warnings\n",
        "warnings.filterwarnings(\"ignore\", category=DeprecationWarning)\n",
        "\n",
        "# Example usage with question refinement\n",
        "user_question = \"What is pca\"  # This line and subsequent lines should be indented\n",
        "\n",
        "refined_question = refine_question(user_question)\n",
        "\n",
        "print(f\"Original question: {user_question}\")\n",
        "print(f\"Refined question: {refined_question}\\n\")\n",
        "\n",
        "retrieved_context = create_retriever_with_filter(refined_question, \"user1\")\n",
        "retrieved_context"
      ],
      "metadata": {
        "colab": {
          "base_uri": "https://localhost:8080/"
        },
        "id": "bD6kKVwhMUn6",
        "outputId": "40e72f93-a742-4401-9d28-01d4ba0555c6"
      },
      "execution_count": 34,
      "outputs": [
        {
          "output_type": "stream",
          "name": "stdout",
          "text": [
            "Original question: What is pca\n",
            "Refined question: What is Principal Component Analysis (PCA), and how is it used for dimensionality reduction in data analysis?\n",
            "\n"
          ]
        },
        {
          "output_type": "execute_result",
          "data": {
            "text/plain": [
              "[Document(metadata={'page': 1, 'source': '/content/pca_d1.pdf'}, page_content='2 \\n \\n \\n \\nSo, what does Principal Component Analysis (PCA) do? \\nPCA finds a new set of dimensions (or a set of basis of views) such that all the dimensions are  \\northogonal (and hence linearly independent) and ranked according to the variance of data along  \\nthem. It means more important principle axis occurs first. (more important = more variance/more  \\nspread out data) \\n \\nHow does PCA work? \\n• Calculate the covariance matrix X of data points.'),\n",
              " Document(metadata={'page': 2, 'source': '/content/pca_d1.pdf'}, page_content='This defines the goal of PCA:- \\n1. Find linearly independent dimensions which can losslessly represent the data points. \\n2. Those newly found dimensions should allow us to predict/reconstruct the original dimensions.'),\n",
              " Document(metadata={'page': 0, 'source': '/content/pca_d1.pdf'}, page_content='1 \\n \\n \\nN \\n \\n1 Principal Component Analysis \\nIn real world data analysis tasks we analyze complex data i.e. multi dimensional data. We plot the  \\ndata and find various patterns in it or use it to train some machine learning models.  One way to  \\nthink about dimensions is that suppose you have an data point x , if we consider this data point as \\na physical object then dimensions are merely a basis of view, like where is the data located when'),\n",
              " Document(metadata={'page': 1, 'source': '/content/pca_d1.pdf'}, page_content='• Calculate eigenvectors and corresponding eigenvalues. \\n• Sort the eigenvectors according to their eigenvalues in decreasing order. \\n• Choose first k eigenvectors and that will be the new k dimensions. \\n• Transform the original n dimensional data points into k dimensions. \\n \\nTo understand the detail working of PCA, we should have knowledge of eigen values and eigen  \\nvectors \\n \\nEigenvectors: The directions in which our data are dispersed.'),\n",
              " Document(metadata={'page': 0, 'source': '/content/pca_d1.pdf'}, page_content='it is observed from horizontal axis or vertical axis. \\nAs the dimensions of data increases, the difficulty to visualize it and perform computations on \\nit also increases. So, how to reduce the dimensions of a data:- \\n• Remove the redundant dimensions \\n• Only keep the most important dimensions  \\nLet us first try to understand some terms:- \\nVariance : It is a measure of the variability or it simply measures how spread the data set is.')]"
            ]
          },
          "metadata": {},
          "execution_count": 34
        }
      ]
    },
    {
      "cell_type": "code",
      "source": [
        "from langchain_core.runnables import RunnableLambda\n",
        "\n",
        "retrieval = RunnableParallel(\n",
        "    {\n",
        "        \"context\": RunnableLambda(lambda x: create_retriever_with_filter(x[\"question\"], x[\"username\"])),\n",
        "        \"question\": RunnableLambda(lambda x: x[\"question\"])\n",
        "        }\n",
        "    )"
      ],
      "metadata": {
        "id": "xWrvQvKsWNHe"
      },
      "execution_count": 35,
      "outputs": []
    },
    {
      "cell_type": "code",
      "source": [
        "retrieval.invoke({\"question\": \"What is Principal component analysis ?\",\n",
        "                  \"username\": \"user1\"})"
      ],
      "metadata": {
        "colab": {
          "base_uri": "https://localhost:8080/"
        },
        "id": "trGmctpcVELd",
        "outputId": "0f621afa-5d8b-41bb-f98e-288e9dbb4f64"
      },
      "execution_count": 36,
      "outputs": [
        {
          "output_type": "execute_result",
          "data": {
            "text/plain": [
              "{'context': [Document(metadata={'page': 1, 'source': '/content/pca_d1.pdf'}, page_content='2 \\n \\n \\n \\nSo, what does Principal Component Analysis (PCA) do? \\nPCA finds a new set of dimensions (or a set of basis of views) such that all the dimensions are  \\northogonal (and hence linearly independent) and ranked according to the variance of data along  \\nthem. It means more important principle axis occurs first. (more important = more variance/more  \\nspread out data) \\n \\nHow does PCA work? \\n• Calculate the covariance matrix X of data points.'),\n",
              "  Document(metadata={'page': 0, 'source': '/content/pca_d1.pdf'}, page_content='1 \\n \\n \\nN \\n \\n1 Principal Component Analysis \\nIn real world data analysis tasks we analyze complex data i.e. multi dimensional data. We plot the  \\ndata and find various patterns in it or use it to train some machine learning models.  One way to  \\nthink about dimensions is that suppose you have an data point x , if we consider this data point as \\na physical object then dimensions are merely a basis of view, like where is the data located when'),\n",
              "  Document(metadata={'page': 2, 'source': '/content/pca_d1.pdf'}, page_content='This defines the goal of PCA:- \\n1. Find linearly independent dimensions which can losslessly represent the data points. \\n2. Those newly found dimensions should allow us to predict/reconstruct the original dimensions.'),\n",
              "  Document(metadata={'page': 1, 'source': '/content/pca_d1.pdf'}, page_content='• Calculate eigenvectors and corresponding eigenvalues. \\n• Sort the eigenvectors according to their eigenvalues in decreasing order. \\n• Choose first k eigenvectors and that will be the new k dimensions. \\n• Transform the original n dimensional data points into k dimensions. \\n \\nTo understand the detail working of PCA, we should have knowledge of eigen values and eigen  \\nvectors \\n \\nEigenvectors: The directions in which our data are dispersed.'),\n",
              "  Document(metadata={'page': 2, 'source': '/content/pca_d1.pdf'}, page_content='• zero values as the off diagonal elements. \\nWe call it a diagonal matrix. So, we have to transform the original data points such that their  \\ncovariance is a diagonal matrix. \\nAlways normalize your data before doing PCA if we use data (features here) of different scales, we \\nget misleading components. We can also simply use correlation matrix instead of using covariance  \\nmatrix if features are of different scales. \\nThis defines the goal of PCA:-')],\n",
              " 'question': 'What is Principal component analysis ?'}"
            ]
          },
          "metadata": {},
          "execution_count": 36
        }
      ]
    },
    {
      "cell_type": "code",
      "execution_count": 37,
      "metadata": {
        "id": "ACe-oEU3g5Mq"
      },
      "outputs": [],
      "source": [
        "# RAG Chain\n",
        "\n",
        "rag_chain = (retrieval                     # Retrieval\n",
        "             | QA_PROMPT                   # Augmentation\n",
        "             | llm                         # Generation\n",
        "             | StrOutputParser()\n",
        "             )"
      ]
    },
    {
      "cell_type": "markdown",
      "source": [
        "The below output is without question refinement."
      ],
      "metadata": {
        "id": "-sn-aT7tUGI8"
      }
    },
    {
      "cell_type": "code",
      "source": [
        "# Example usage of the complete chain without question refinement\n",
        "user_input = {\"question\": user_question, \"username\": \"user1\"}\n",
        "\n",
        "response = rag_chain.invoke(user_input)\n",
        "response"
      ],
      "metadata": {
        "colab": {
          "base_uri": "https://localhost:8080/",
          "height": 90
        },
        "id": "aBggVqEnMKGl",
        "outputId": "aa5c39db-ac3a-4e56-db16-f1d9f751755a"
      },
      "execution_count": 38,
      "outputs": [
        {
          "output_type": "execute_result",
          "data": {
            "text/plain": [
              "'Principal Component Analysis (PCA) is a statistical technique used to reduce the dimensionality of data while preserving as much variance as possible. It finds a new set of orthogonal dimensions (or basis views) that are linearly independent and ranked according to the variance of the data along them. The main goals of PCA are to identify linearly independent dimensions that can represent the data points without loss and to allow for the prediction or reconstruction of the original dimensions. The process involves calculating the covariance matrix of the data, determining the eigenvectors and eigenvalues, sorting the eigenvectors by their eigenvalues, and transforming the original data into a reduced set of dimensions.\\n\\nThanks for asking!'"
            ],
            "application/vnd.google.colaboratory.intrinsic+json": {
              "type": "string"
            }
          },
          "metadata": {},
          "execution_count": 38
        }
      ]
    },
    {
      "cell_type": "markdown",
      "source": [
        "This output is with the question refinement."
      ],
      "metadata": {
        "id": "EFXeKBOUUKJr"
      }
    },
    {
      "cell_type": "code",
      "source": [
        "# Example usage of the complete chain with question refinement\n",
        "user_input = {\"question\": refined_question, \"username\": \"user1\"}\n",
        "\n",
        "response = rag_chain.invoke(user_input)\n",
        "response"
      ],
      "metadata": {
        "colab": {
          "base_uri": "https://localhost:8080/",
          "height": 127
        },
        "id": "1VzouheJTg6C",
        "outputId": "44044949-91cf-473a-c01f-ac0b53fe6070"
      },
      "execution_count": 39,
      "outputs": [
        {
          "output_type": "execute_result",
          "data": {
            "text/plain": [
              "'Principal Component Analysis (PCA) is a statistical technique used to analyze complex, multi-dimensional data by transforming it into a new set of dimensions that are orthogonal (linearly independent) and ranked according to the variance of the data along these dimensions. The primary goals of PCA are to find linearly independent dimensions that can represent the data points without loss and to enable the prediction or reconstruction of the original dimensions.\\n\\nThe process of PCA involves several steps:\\n1. Calculating the covariance matrix of the data points.\\n2. Computing the eigenvectors and corresponding eigenvalues of the covariance matrix.\\n3. Sorting the eigenvectors based on their eigenvalues in decreasing order.\\n4. Selecting the top k eigenvectors to form the new k dimensions.\\n5. Transforming the original n-dimensional data points into these k dimensions.\\n\\nBy focusing on the dimensions with the highest variance, PCA effectively reduces the dimensionality of the data while retaining the most important information, making it easier to visualize and analyze.\\n\\nThanks for asking!'"
            ],
            "application/vnd.google.colaboratory.intrinsic+json": {
              "type": "string"
            }
          },
          "metadata": {},
          "execution_count": 39
        }
      ]
    },
    {
      "cell_type": "markdown",
      "source": [
        "#### Examples for testing"
      ],
      "metadata": {
        "id": "3yEENXOGAbbX"
      }
    },
    {
      "cell_type": "code",
      "execution_count": 40,
      "metadata": {
        "colab": {
          "base_uri": "https://localhost:8080/",
          "height": 36
        },
        "id": "h5njKoSDUsAT",
        "outputId": "aa7bf52a-548d-4668-90c2-a751fb3a1f72"
      },
      "outputs": [
        {
          "output_type": "execute_result",
          "data": {
            "text/plain": [
              "'I don’t know. Thanks for asking!'"
            ],
            "application/vnd.google.colaboratory.intrinsic+json": {
              "type": "string"
            }
          },
          "metadata": {},
          "execution_count": 40
        }
      ],
      "source": [
        "response = rag_chain.invoke({\"question\": refined_question,\n",
        "                             \"username\": \"user2\"})\n",
        "\n",
        "response"
      ]
    },
    {
      "cell_type": "code",
      "source": [
        "response = rag_chain.invoke({\"question\": \"What is Variance?\",\n",
        "                             \"username\": \"user1\"})\n",
        "\n",
        "response"
      ],
      "metadata": {
        "colab": {
          "base_uri": "https://localhost:8080/",
          "height": 72
        },
        "id": "lqhP442zPZcS",
        "outputId": "018827fe-770b-454b-dcf2-10b0b7f44606"
      },
      "execution_count": 41,
      "outputs": [
        {
          "output_type": "execute_result",
          "data": {
            "text/plain": [
              "'Variance is a measure of the variability of a data set; it quantifies how spread out the data points are from the mean score. Mathematically, it is calculated using the formula:\\n\\n\\\\[ \\\\text{var}(x) = \\\\frac{\\\\Sigma(x_i - \\\\bar{x})^2}{N} \\\\]\\n\\nwhere \\\\( x_i \\\\) represents the individual data points, \\\\( \\\\bar{x} \\\\) is the mean of the data, and \\\\( N \\\\) is the number of data points. \\n\\nThanks for asking!'"
            ],
            "application/vnd.google.colaboratory.intrinsic+json": {
              "type": "string"
            }
          },
          "metadata": {},
          "execution_count": 41
        }
      ]
    },
    {
      "cell_type": "code",
      "source": [
        "response = rag_chain.invoke({\"question\": \"What is Variance ?\",\n",
        "                             \"username\": \"user2\"})\n",
        "\n",
        "response"
      ],
      "metadata": {
        "colab": {
          "base_uri": "https://localhost:8080/",
          "height": 54
        },
        "id": "vc2ZXAi5K_kf",
        "outputId": "a6ab1cbd-f05b-4e5c-fa94-7caf94fcd67a"
      },
      "execution_count": 42,
      "outputs": [
        {
          "output_type": "execute_result",
          "data": {
            "text/plain": [
              "'Variance quantifies how the predictions made on the same observation are different from each other. A high variance model will overfit on your training population and perform badly on any observation beyond training. Thus, we aim at low variance. \\n\\nThanks for asking!'"
            ],
            "application/vnd.google.colaboratory.intrinsic+json": {
              "type": "string"
            }
          },
          "metadata": {},
          "execution_count": 42
        }
      ]
    },
    {
      "cell_type": "code",
      "source": [
        "response = rag_chain.invoke({\"question\": \"What is Variance ?\",\n",
        "                             \"username\": \"user3\"})\n",
        "\n",
        "response"
      ],
      "metadata": {
        "colab": {
          "base_uri": "https://localhost:8080/",
          "height": 36
        },
        "id": "iZfnoO6UQJJv",
        "outputId": "5082b194-71a7-433b-c2e0-5b09cf7b63eb"
      },
      "execution_count": 43,
      "outputs": [
        {
          "output_type": "execute_result",
          "data": {
            "text/plain": [
              "'Your Access is Restricted. Thanks for asking!'"
            ],
            "application/vnd.google.colaboratory.intrinsic+json": {
              "type": "string"
            }
          },
          "metadata": {},
          "execution_count": 43
        }
      ]
    },
    {
      "cell_type": "code",
      "execution_count": 44,
      "metadata": {
        "colab": {
          "base_uri": "https://localhost:8080/",
          "height": 36
        },
        "id": "tzgSs_H_U0YD",
        "outputId": "88f8e4b0-81a1-4136-9f19-30686f9d67cd"
      },
      "outputs": [
        {
          "output_type": "execute_result",
          "data": {
            "text/plain": [
              "'I don’t know. Thanks for asking!'"
            ],
            "application/vnd.google.colaboratory.intrinsic+json": {
              "type": "string"
            }
          },
          "metadata": {},
          "execution_count": 44
        }
      ],
      "source": [
        "response = rag_chain.invoke({\"question\": \"What is Principal component analysis?\",\n",
        "                             \"username\": \"user2\"})\n",
        "\n",
        "response"
      ]
    },
    {
      "cell_type": "code",
      "execution_count": 45,
      "metadata": {
        "colab": {
          "base_uri": "https://localhost:8080/"
        },
        "id": "t5ju2XCJVB4v",
        "outputId": "ce2c255e-e832-433d-93fa-cca7d94e9714"
      },
      "outputs": [
        {
          "output_type": "stream",
          "name": "stdout",
          "text": [
            "Ensemble methods work by combining multiple models to improve predictions. They can decrease variance (through techniques like bagging), decrease bias (through methods like boosting), and enhance overall prediction accuracy (through stacking). \n",
            "\n",
            "For example, in bagging, multiple models are trained on different samples of the data, which helps to reduce noise and variance. In boosting, models are trained sequentially, with each new model focusing on the errors made by the previous ones, thereby reducing bias. Stacking involves training multiple models and then combining their predictions to improve the final output.\n",
            "\n",
            "Thanks for asking!\n"
          ]
        }
      ],
      "source": [
        "response = rag_chain.invoke({\"question\": \"How ensemble method works?\",\n",
        "                             \"username\": \"user2\"})\n",
        "\n",
        "print(response)"
      ]
    },
    {
      "cell_type": "code",
      "execution_count": 46,
      "metadata": {
        "colab": {
          "base_uri": "https://localhost:8080/"
        },
        "id": "TnpL5ouzWwd3",
        "outputId": "02551fae-ec50-443a-844f-e4c4661bc4b5"
      },
      "outputs": [
        {
          "output_type": "stream",
          "name": "stdout",
          "text": [
            "I don’t know. Thanks for asking!\n"
          ]
        }
      ],
      "source": [
        "# For queries that is not in documents\n",
        "response = rag_chain.invoke({\"question\": \"Who is the CEO of OpenAI \",\n",
        "                             \"username\": \"user1\"})\n",
        "\n",
        "print(response)"
      ]
    },
    {
      "cell_type": "code",
      "source": [
        "# For queries that is not in documents\n",
        "response = rag_chain.invoke({\"question\": \"Who is the CEO of OpenAI \",\n",
        "                             \"username\": \"user3\"})\n",
        "\n",
        "print(response)"
      ],
      "metadata": {
        "colab": {
          "base_uri": "https://localhost:8080/"
        },
        "id": "eruF4JRYYnyt",
        "outputId": "48935822-cd7f-461d-dd7d-12c3410f2598"
      },
      "execution_count": 47,
      "outputs": [
        {
          "output_type": "stream",
          "name": "stdout",
          "text": [
            "Your Access is Restricted. Thanks for asking!\n"
          ]
        }
      ]
    },
    {
      "cell_type": "markdown",
      "source": [
        "### Gradio Interface for Retrieval Augmented Generation with Access Control\n"
      ],
      "metadata": {
        "id": "tU6cyNRckR5D"
      }
    },
    {
      "source": [
        "%%capture\n",
        "!pip install gradio"
      ],
      "cell_type": "code",
      "metadata": {
        "id": "YDQiPAStnLF0"
      },
      "execution_count": 48,
      "outputs": []
    },
    {
      "cell_type": "code",
      "source": [
        "import gradio as gr\n",
        "\n",
        "def rag_interface(question, username):\n",
        "    refined_question = refine_question(question)\n",
        "    user_input = {\"question\": refined_question, \"username\": username}\n",
        "    response = rag_chain.invoke(user_input)\n",
        "    return refined_question, response\n",
        "\n",
        "iface = gr.Interface(\n",
        "    fn=rag_interface,\n",
        "    inputs=[\n",
        "        gr.Textbox(label=\"Enter your question\"),\n",
        "        gr.Textbox(label=\"Enter your username\")\n",
        "    ],\n",
        "    outputs=[\n",
        "        gr.Textbox(label=\"Refined Question\"),\n",
        "        gr.Textbox(label=\"Response\")\n",
        "    ],\n",
        "    title=\"Retrieval Augmented Generation with Access Control\",\n",
        "    description=\"Ask a question, provide your username, and get a refined question with the response.\",\n",
        "    allow_flagging=\"never\"\n",
        ")\n",
        "\n",
        "iface.launch()"
      ],
      "metadata": {
        "colab": {
          "base_uri": "https://localhost:8080/",
          "height": 687
        },
        "id": "1EybK8NXXDRN",
        "outputId": "d6ca2fde-0770-4762-c663-38232249af32"
      },
      "execution_count": 50,
      "outputs": [
        {
          "output_type": "stream",
          "name": "stderr",
          "text": [
            "/usr/local/lib/python3.10/dist-packages/gradio/interface.py:399: UserWarning: The `allow_flagging` parameter in `Interface` is deprecated.Use `flagging_mode` instead.\n",
            "  warnings.warn(\n"
          ]
        },
        {
          "output_type": "stream",
          "name": "stdout",
          "text": [
            "Running Gradio in a Colab notebook requires sharing enabled. Automatically setting `share=True` (you can turn this off by setting `share=False` in `launch()` explicitly).\n",
            "\n",
            "Colab notebook detected. To show errors in colab notebook, set debug=True in launch()\n",
            "* Running on public URL: https://a49fbd64dcb4669c4d.gradio.live\n",
            "\n",
            "This share link expires in 72 hours. For free permanent hosting and GPU upgrades, run `gradio deploy` from the terminal in the working directory to deploy to Hugging Face Spaces (https://huggingface.co/spaces)\n"
          ]
        },
        {
          "output_type": "display_data",
          "data": {
            "text/plain": [
              "<IPython.core.display.HTML object>"
            ],
            "text/html": [
              "<div><iframe src=\"https://a49fbd64dcb4669c4d.gradio.live\" width=\"100%\" height=\"500\" allow=\"autoplay; camera; microphone; clipboard-read; clipboard-write;\" frameborder=\"0\" allowfullscreen></iframe></div>"
            ]
          },
          "metadata": {}
        },
        {
          "output_type": "execute_result",
          "data": {
            "text/plain": []
          },
          "metadata": {},
          "execution_count": 50
        }
      ]
    },
    {
      "cell_type": "markdown",
      "metadata": {
        "id": "BK8ISVozuENp"
      },
      "source": [
        "[**Details of Chroma through LangChain**](https://python.langchain.com/docs/integrations/vectorstores/chroma/)"
      ]
    },
    {
      "cell_type": "markdown",
      "metadata": {
        "id": "T97SnUYQuhIC"
      },
      "source": [
        "## Reusing Vector DB"
      ]
    },
    {
      "cell_type": "markdown",
      "metadata": {
        "id": "v7OnDFDbk_BI"
      },
      "source": [
        "### **Download the vector DB**"
      ]
    },
    {
      "cell_type": "code",
      "execution_count": null,
      "metadata": {
        "colab": {
          "base_uri": "https://localhost:8080/"
        },
        "id": "A0_0aghhlBzP",
        "outputId": "84357b25-6df1-45d2-cd2c-acdd86f43a81"
      },
      "outputs": [
        {
          "name": "stdout",
          "output_type": "stream",
          "text": [
            "  adding: content/docs/ (stored 0%)\n",
            "  adding: content/docs/chroma/ (stored 0%)\n",
            "  adding: content/docs/chroma/7b1ffc7b-8801-4a1d-b316-29daad0146a6/ (stored 0%)\n",
            "  adding: content/docs/chroma/7b1ffc7b-8801-4a1d-b316-29daad0146a6/length.bin (deflated 98%)\n",
            "  adding: content/docs/chroma/7b1ffc7b-8801-4a1d-b316-29daad0146a6/link_lists.bin (stored 0%)\n",
            "  adding: content/docs/chroma/7b1ffc7b-8801-4a1d-b316-29daad0146a6/data_level0.bin (deflated 100%)\n",
            "  adding: content/docs/chroma/7b1ffc7b-8801-4a1d-b316-29daad0146a6/header.bin (deflated 61%)\n",
            "  adding: content/docs/chroma/chroma.sqlite3 (deflated 61%)\n"
          ]
        }
      ],
      "source": [
        "# Zip the entire folder\n",
        "!zip -r /content/docs.zip /content/docs"
      ]
    },
    {
      "cell_type": "code",
      "execution_count": null,
      "metadata": {
        "colab": {
          "base_uri": "https://localhost:8080/",
          "height": 34
        },
        "id": "koEmhPTMlE5o",
        "outputId": "1cfc08f2-b06e-4771-9601-a8839c8cfdf5"
      },
      "outputs": [
        {
          "data": {
            "application/javascript": [
              "\n",
              "    async function download(id, filename, size) {\n",
              "      if (!google.colab.kernel.accessAllowed) {\n",
              "        return;\n",
              "      }\n",
              "      const div = document.createElement('div');\n",
              "      const label = document.createElement('label');\n",
              "      label.textContent = `Downloading \"${filename}\": `;\n",
              "      div.appendChild(label);\n",
              "      const progress = document.createElement('progress');\n",
              "      progress.max = size;\n",
              "      div.appendChild(progress);\n",
              "      document.body.appendChild(div);\n",
              "\n",
              "      const buffers = [];\n",
              "      let downloaded = 0;\n",
              "\n",
              "      const channel = await google.colab.kernel.comms.open(id);\n",
              "      // Send a message to notify the kernel that we're ready.\n",
              "      channel.send({})\n",
              "\n",
              "      for await (const message of channel.messages) {\n",
              "        // Send a message to notify the kernel that we're ready.\n",
              "        channel.send({})\n",
              "        if (message.buffers) {\n",
              "          for (const buffer of message.buffers) {\n",
              "            buffers.push(buffer);\n",
              "            downloaded += buffer.byteLength;\n",
              "            progress.value = downloaded;\n",
              "          }\n",
              "        }\n",
              "      }\n",
              "      const blob = new Blob(buffers, {type: 'application/binary'});\n",
              "      const a = document.createElement('a');\n",
              "      a.href = window.URL.createObjectURL(blob);\n",
              "      a.download = filename;\n",
              "      div.appendChild(a);\n",
              "      a.click();\n",
              "      div.remove();\n",
              "    }\n",
              "  "
            ],
            "text/plain": [
              "<IPython.core.display.Javascript object>"
            ]
          },
          "metadata": {},
          "output_type": "display_data"
        },
        {
          "data": {
            "application/javascript": [
              "download(\"download_166f6d61-9aee-4fde-aaec-14b7665371c8\", \"docs.zip\", 200570)"
            ],
            "text/plain": [
              "<IPython.core.display.Javascript object>"
            ]
          },
          "metadata": {},
          "output_type": "display_data"
        }
      ],
      "source": [
        "from google.colab import files\n",
        "files.download(\"/content/docs.zip\")"
      ]
    },
    {
      "cell_type": "markdown",
      "metadata": {
        "id": "X7bjem50lIzp"
      },
      "source": [
        "### **Upload the vector db from previous step and unzip**"
      ]
    },
    {
      "cell_type": "code",
      "execution_count": null,
      "metadata": {
        "colab": {
          "background_save": true,
          "base_uri": "https://localhost:8080/"
        },
        "id": "oBND2d4glLY-",
        "outputId": "d66f2da0-91ec-4340-aa11-d9fdf7a52733"
      },
      "outputs": [
        {
          "name": "stdout",
          "output_type": "stream",
          "text": [
            "Archive:  /content/docs.zip\n",
            "replace /content/docs/chroma/7b1ffc7b-8801-4a1d-b316-29daad0146a6/length.bin? [y]es, [n]o, [A]ll, [N]one, [r]ename: "
          ]
        }
      ],
      "source": [
        "!unzip /content/docs.zip  -d /"
      ]
    },
    {
      "cell_type": "code",
      "execution_count": null,
      "metadata": {
        "id": "n3Msb--vlQCy"
      },
      "outputs": [],
      "source": [
        "from langchain_chroma import Chroma\n",
        "from langchain_openai import OpenAIEmbeddings\n",
        "\n",
        "embedding = OpenAIEmbeddings(model='text-embedding-3-small')\n",
        "\n",
        "vectordb = Chroma(persist_directory = 'docs/chroma/',\n",
        "                  embedding_function = embedding\n",
        "                  )"
      ]
    }
  ],
  "metadata": {
    "colab": {
      "provenance": []
    },
    "kernelspec": {
      "display_name": "Python 3",
      "name": "python3"
    },
    "language_info": {
      "name": "python"
    }
  },
  "nbformat": 4,
  "nbformat_minor": 0
}